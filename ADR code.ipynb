{
 "cells": [
  {
   "cell_type": "code",
   "execution_count": 1,
   "metadata": {},
   "outputs": [],
   "source": [
    "import numpy as np\n",
    "import pandas as pd\n",
    "import sklearn\n",
    "import matplotlib.pyplot as plt"
   ]
  },
  {
   "cell_type": "markdown",
   "metadata": {},
   "source": [
    "# Data Loading and Visualization"
   ]
  },
  {
   "cell_type": "code",
   "execution_count": 2,
   "metadata": {},
   "outputs": [
    {
     "data": {
      "text/html": [
       "<div>\n",
       "<style scoped>\n",
       "    .dataframe tbody tr th:only-of-type {\n",
       "        vertical-align: middle;\n",
       "    }\n",
       "\n",
       "    .dataframe tbody tr th {\n",
       "        vertical-align: top;\n",
       "    }\n",
       "\n",
       "    .dataframe thead th {\n",
       "        text-align: right;\n",
       "    }\n",
       "</style>\n",
       "<table border=\"1\" class=\"dataframe\">\n",
       "  <thead>\n",
       "    <tr style=\"text-align: right;\">\n",
       "      <th></th>\n",
       "      <th>Amylinomimetics</th>\n",
       "      <th>Biguanides</th>\n",
       "      <th>Hexalen</th>\n",
       "      <th>Acetaminophen</th>\n",
       "      <th>Triazolam</th>\n",
       "      <th>Matulane</th>\n",
       "      <th>Estrostep Fe</th>\n",
       "      <th>Seasonale</th>\n",
       "      <th>Thermazene</th>\n",
       "      <th>Aprotinin</th>\n",
       "      <th>Ramelteon</th>\n",
       "      <th>Malarone</th>\n",
       "      <th>Chlorpheniramine</th>\n",
       "      <th>Motrin IB</th>\n",
       "      <th>Niaspan</th>\n",
       "      <th>Reaction</th>\n",
       "    </tr>\n",
       "  </thead>\n",
       "  <tbody>\n",
       "    <tr>\n",
       "      <td>1</td>\n",
       "      <td>3</td>\n",
       "      <td>3</td>\n",
       "      <td>0</td>\n",
       "      <td>0</td>\n",
       "      <td>0</td>\n",
       "      <td>0</td>\n",
       "      <td>0</td>\n",
       "      <td>0</td>\n",
       "      <td>0</td>\n",
       "      <td>0</td>\n",
       "      <td>0</td>\n",
       "      <td>0</td>\n",
       "      <td>0</td>\n",
       "      <td>0</td>\n",
       "      <td>0</td>\n",
       "      <td>low</td>\n",
       "    </tr>\n",
       "    <tr>\n",
       "      <td>2</td>\n",
       "      <td>0</td>\n",
       "      <td>0</td>\n",
       "      <td>0</td>\n",
       "      <td>0</td>\n",
       "      <td>0</td>\n",
       "      <td>1</td>\n",
       "      <td>3</td>\n",
       "      <td>0</td>\n",
       "      <td>0</td>\n",
       "      <td>0</td>\n",
       "      <td>0</td>\n",
       "      <td>0</td>\n",
       "      <td>0</td>\n",
       "      <td>0</td>\n",
       "      <td>0</td>\n",
       "      <td>high</td>\n",
       "    </tr>\n",
       "    <tr>\n",
       "      <td>3</td>\n",
       "      <td>0</td>\n",
       "      <td>0</td>\n",
       "      <td>0</td>\n",
       "      <td>0</td>\n",
       "      <td>0</td>\n",
       "      <td>0</td>\n",
       "      <td>0</td>\n",
       "      <td>2</td>\n",
       "      <td>0</td>\n",
       "      <td>3</td>\n",
       "      <td>0</td>\n",
       "      <td>0</td>\n",
       "      <td>0</td>\n",
       "      <td>0</td>\n",
       "      <td>0</td>\n",
       "      <td>medium</td>\n",
       "    </tr>\n",
       "    <tr>\n",
       "      <td>4</td>\n",
       "      <td>2</td>\n",
       "      <td>0</td>\n",
       "      <td>0</td>\n",
       "      <td>0</td>\n",
       "      <td>0</td>\n",
       "      <td>0</td>\n",
       "      <td>0</td>\n",
       "      <td>0</td>\n",
       "      <td>0</td>\n",
       "      <td>3</td>\n",
       "      <td>0</td>\n",
       "      <td>0</td>\n",
       "      <td>0</td>\n",
       "      <td>0</td>\n",
       "      <td>0</td>\n",
       "      <td>low</td>\n",
       "    </tr>\n",
       "    <tr>\n",
       "      <td>5</td>\n",
       "      <td>0</td>\n",
       "      <td>0</td>\n",
       "      <td>0</td>\n",
       "      <td>0</td>\n",
       "      <td>0</td>\n",
       "      <td>0</td>\n",
       "      <td>0</td>\n",
       "      <td>0</td>\n",
       "      <td>3</td>\n",
       "      <td>3</td>\n",
       "      <td>0</td>\n",
       "      <td>0</td>\n",
       "      <td>0</td>\n",
       "      <td>0</td>\n",
       "      <td>0</td>\n",
       "      <td>medium</td>\n",
       "    </tr>\n",
       "  </tbody>\n",
       "</table>\n",
       "</div>"
      ],
      "text/plain": [
       "    Amylinomimetics  Biguanides  Hexalen  Acetaminophen  Triazolam  Matulane  \\\n",
       "1                 3           3        0              0          0         0   \n",
       "2                 0           0        0              0          0         1   \n",
       "3                 0           0        0              0          0         0   \n",
       "4                 2           0        0              0          0         0   \n",
       "5                 0           0        0              0          0         0   \n",
       "\n",
       "   Estrostep Fe  Seasonale  Thermazene  Aprotinin  Ramelteon  Malarone  \\\n",
       "1             0          0           0          0          0         0   \n",
       "2             3          0           0          0          0         0   \n",
       "3             0          2           0          3          0         0   \n",
       "4             0          0           0          3          0         0   \n",
       "5             0          0           3          3          0         0   \n",
       "\n",
       "   Chlorpheniramine  Motrin IB  Niaspan Reaction  \n",
       "1                 0          0        0      low  \n",
       "2                 0          0        0     high  \n",
       "3                 0          0        0   medium  \n",
       "4                 0          0        0      low  \n",
       "5                 0          0        0   medium  "
      ]
     },
     "execution_count": 2,
     "metadata": {},
     "output_type": "execute_result"
    }
   ],
   "source": [
    "#Load data and remove the header row\n",
    "data=pd.read_csv('./dataset3.csv',index_col=None,names=[' Amylinomimetics','Biguanides','Hexalen','Acetaminophen','Triazolam','Matulane','Estrostep Fe','Seasonale','Thermazene','Aprotinin','Ramelteon','Malarone','Chlorpheniramine','Motrin IB','Niaspan','Reaction'])\n",
    "data=data.drop([0],axis=0)\n",
    "data.head()"
   ]
  },
  {
   "cell_type": "code",
   "execution_count": 3,
   "metadata": {},
   "outputs": [
    {
     "data": {
      "text/html": [
       "<div>\n",
       "<style scoped>\n",
       "    .dataframe tbody tr th:only-of-type {\n",
       "        vertical-align: middle;\n",
       "    }\n",
       "\n",
       "    .dataframe tbody tr th {\n",
       "        vertical-align: top;\n",
       "    }\n",
       "\n",
       "    .dataframe thead th {\n",
       "        text-align: right;\n",
       "    }\n",
       "</style>\n",
       "<table border=\"1\" class=\"dataframe\">\n",
       "  <thead>\n",
       "    <tr style=\"text-align: right;\">\n",
       "      <th></th>\n",
       "      <th>Amylinomimetics</th>\n",
       "      <th>Biguanides</th>\n",
       "      <th>Hexalen</th>\n",
       "      <th>Acetaminophen</th>\n",
       "      <th>Triazolam</th>\n",
       "      <th>Matulane</th>\n",
       "      <th>Estrostep Fe</th>\n",
       "      <th>Seasonale</th>\n",
       "      <th>Thermazene</th>\n",
       "      <th>Aprotinin</th>\n",
       "      <th>Ramelteon</th>\n",
       "      <th>Malarone</th>\n",
       "      <th>Chlorpheniramine</th>\n",
       "      <th>Motrin IB</th>\n",
       "      <th>Niaspan</th>\n",
       "    </tr>\n",
       "  </thead>\n",
       "  <tbody>\n",
       "    <tr>\n",
       "      <td>count</td>\n",
       "      <td>29999.000000</td>\n",
       "      <td>29999.000000</td>\n",
       "      <td>29999.000000</td>\n",
       "      <td>29999.000000</td>\n",
       "      <td>29999.000000</td>\n",
       "      <td>29999.000000</td>\n",
       "      <td>29999.000000</td>\n",
       "      <td>29999.000000</td>\n",
       "      <td>29999.000000</td>\n",
       "      <td>29999.000000</td>\n",
       "      <td>29999.000000</td>\n",
       "      <td>29999.000000</td>\n",
       "      <td>29999.000000</td>\n",
       "      <td>29999.000000</td>\n",
       "      <td>29999.000000</td>\n",
       "    </tr>\n",
       "    <tr>\n",
       "      <td>mean</td>\n",
       "      <td>0.403047</td>\n",
       "      <td>0.393446</td>\n",
       "      <td>0.397013</td>\n",
       "      <td>0.400080</td>\n",
       "      <td>0.394746</td>\n",
       "      <td>0.405380</td>\n",
       "      <td>0.394480</td>\n",
       "      <td>0.394846</td>\n",
       "      <td>0.398613</td>\n",
       "      <td>0.396680</td>\n",
       "      <td>0.398513</td>\n",
       "      <td>0.404580</td>\n",
       "      <td>0.408980</td>\n",
       "      <td>0.408747</td>\n",
       "      <td>0.401513</td>\n",
       "    </tr>\n",
       "    <tr>\n",
       "      <td>std</td>\n",
       "      <td>0.883654</td>\n",
       "      <td>0.870683</td>\n",
       "      <td>0.875045</td>\n",
       "      <td>0.880185</td>\n",
       "      <td>0.870152</td>\n",
       "      <td>0.887031</td>\n",
       "      <td>0.873904</td>\n",
       "      <td>0.873681</td>\n",
       "      <td>0.876488</td>\n",
       "      <td>0.876984</td>\n",
       "      <td>0.880044</td>\n",
       "      <td>0.882462</td>\n",
       "      <td>0.887896</td>\n",
       "      <td>0.889036</td>\n",
       "      <td>0.884766</td>\n",
       "    </tr>\n",
       "    <tr>\n",
       "      <td>min</td>\n",
       "      <td>0.000000</td>\n",
       "      <td>0.000000</td>\n",
       "      <td>0.000000</td>\n",
       "      <td>0.000000</td>\n",
       "      <td>0.000000</td>\n",
       "      <td>0.000000</td>\n",
       "      <td>0.000000</td>\n",
       "      <td>0.000000</td>\n",
       "      <td>0.000000</td>\n",
       "      <td>0.000000</td>\n",
       "      <td>0.000000</td>\n",
       "      <td>0.000000</td>\n",
       "      <td>0.000000</td>\n",
       "      <td>0.000000</td>\n",
       "      <td>0.000000</td>\n",
       "    </tr>\n",
       "    <tr>\n",
       "      <td>25%</td>\n",
       "      <td>0.000000</td>\n",
       "      <td>0.000000</td>\n",
       "      <td>0.000000</td>\n",
       "      <td>0.000000</td>\n",
       "      <td>0.000000</td>\n",
       "      <td>0.000000</td>\n",
       "      <td>0.000000</td>\n",
       "      <td>0.000000</td>\n",
       "      <td>0.000000</td>\n",
       "      <td>0.000000</td>\n",
       "      <td>0.000000</td>\n",
       "      <td>0.000000</td>\n",
       "      <td>0.000000</td>\n",
       "      <td>0.000000</td>\n",
       "      <td>0.000000</td>\n",
       "    </tr>\n",
       "    <tr>\n",
       "      <td>50%</td>\n",
       "      <td>0.000000</td>\n",
       "      <td>0.000000</td>\n",
       "      <td>0.000000</td>\n",
       "      <td>0.000000</td>\n",
       "      <td>0.000000</td>\n",
       "      <td>0.000000</td>\n",
       "      <td>0.000000</td>\n",
       "      <td>0.000000</td>\n",
       "      <td>0.000000</td>\n",
       "      <td>0.000000</td>\n",
       "      <td>0.000000</td>\n",
       "      <td>0.000000</td>\n",
       "      <td>0.000000</td>\n",
       "      <td>0.000000</td>\n",
       "      <td>0.000000</td>\n",
       "    </tr>\n",
       "    <tr>\n",
       "      <td>75%</td>\n",
       "      <td>0.000000</td>\n",
       "      <td>0.000000</td>\n",
       "      <td>0.000000</td>\n",
       "      <td>0.000000</td>\n",
       "      <td>0.000000</td>\n",
       "      <td>0.000000</td>\n",
       "      <td>0.000000</td>\n",
       "      <td>0.000000</td>\n",
       "      <td>0.000000</td>\n",
       "      <td>0.000000</td>\n",
       "      <td>0.000000</td>\n",
       "      <td>0.000000</td>\n",
       "      <td>0.000000</td>\n",
       "      <td>0.000000</td>\n",
       "      <td>0.000000</td>\n",
       "    </tr>\n",
       "    <tr>\n",
       "      <td>max</td>\n",
       "      <td>3.000000</td>\n",
       "      <td>3.000000</td>\n",
       "      <td>3.000000</td>\n",
       "      <td>3.000000</td>\n",
       "      <td>3.000000</td>\n",
       "      <td>3.000000</td>\n",
       "      <td>3.000000</td>\n",
       "      <td>3.000000</td>\n",
       "      <td>3.000000</td>\n",
       "      <td>3.000000</td>\n",
       "      <td>3.000000</td>\n",
       "      <td>3.000000</td>\n",
       "      <td>3.000000</td>\n",
       "      <td>3.000000</td>\n",
       "      <td>3.000000</td>\n",
       "    </tr>\n",
       "  </tbody>\n",
       "</table>\n",
       "</div>"
      ],
      "text/plain": [
       "        Amylinomimetics    Biguanides       Hexalen  Acetaminophen  \\\n",
       "count      29999.000000  29999.000000  29999.000000   29999.000000   \n",
       "mean           0.403047      0.393446      0.397013       0.400080   \n",
       "std            0.883654      0.870683      0.875045       0.880185   \n",
       "min            0.000000      0.000000      0.000000       0.000000   \n",
       "25%            0.000000      0.000000      0.000000       0.000000   \n",
       "50%            0.000000      0.000000      0.000000       0.000000   \n",
       "75%            0.000000      0.000000      0.000000       0.000000   \n",
       "max            3.000000      3.000000      3.000000       3.000000   \n",
       "\n",
       "          Triazolam      Matulane  Estrostep Fe     Seasonale    Thermazene  \\\n",
       "count  29999.000000  29999.000000  29999.000000  29999.000000  29999.000000   \n",
       "mean       0.394746      0.405380      0.394480      0.394846      0.398613   \n",
       "std        0.870152      0.887031      0.873904      0.873681      0.876488   \n",
       "min        0.000000      0.000000      0.000000      0.000000      0.000000   \n",
       "25%        0.000000      0.000000      0.000000      0.000000      0.000000   \n",
       "50%        0.000000      0.000000      0.000000      0.000000      0.000000   \n",
       "75%        0.000000      0.000000      0.000000      0.000000      0.000000   \n",
       "max        3.000000      3.000000      3.000000      3.000000      3.000000   \n",
       "\n",
       "          Aprotinin     Ramelteon      Malarone  Chlorpheniramine  \\\n",
       "count  29999.000000  29999.000000  29999.000000      29999.000000   \n",
       "mean       0.396680      0.398513      0.404580          0.408980   \n",
       "std        0.876984      0.880044      0.882462          0.887896   \n",
       "min        0.000000      0.000000      0.000000          0.000000   \n",
       "25%        0.000000      0.000000      0.000000          0.000000   \n",
       "50%        0.000000      0.000000      0.000000          0.000000   \n",
       "75%        0.000000      0.000000      0.000000          0.000000   \n",
       "max        3.000000      3.000000      3.000000          3.000000   \n",
       "\n",
       "          Motrin IB       Niaspan  \n",
       "count  29999.000000  29999.000000  \n",
       "mean       0.408747      0.401513  \n",
       "std        0.889036      0.884766  \n",
       "min        0.000000      0.000000  \n",
       "25%        0.000000      0.000000  \n",
       "50%        0.000000      0.000000  \n",
       "75%        0.000000      0.000000  \n",
       "max        3.000000      3.000000  "
      ]
     },
     "execution_count": 3,
     "metadata": {},
     "output_type": "execute_result"
    }
   ],
   "source": [
    "data.describe()"
   ]
  },
  {
   "cell_type": "code",
   "execution_count": 4,
   "metadata": {},
   "outputs": [
    {
     "data": {
      "text/plain": [
       "Text(0.5, 1.0, 'Data Visualization')"
      ]
     },
     "execution_count": 4,
     "metadata": {},
     "output_type": "execute_result"
    },
    {
     "data": {
      "image/png": "[encoded data removed]",
      "text/plain": [
       "<Figure size 432x288 with 1 Axes>"
      ]
     },
     "metadata": {},
     "output_type": "display_data"
    }
   ],
   "source": [
    "data['label']=data.Reaction.map({'low':0,'medium':1,'high':2})\n",
    "fig, ax = plt.subplots(1, 1)\n",
    "ax.pie(data.label.value_counts(),autopct='%1.1f%%', labels=['low','medium','high'], colors=['yellow','r','green'])\n",
    "plt.axis('equal')\n",
    "plt.title('Data Visualization')"
   ]
  },
  {
   "cell_type": "markdown",
   "metadata": {},
   "source": [
    "# Pre-processing"
   ]
  },
  {
   "cell_type": "code",
   "execution_count": 5,
   "metadata": {},
   "outputs": [
    {
     "data": {
      "text/html": [
       "<div>\n",
       "<style scoped>\n",
       "    .dataframe tbody tr th:only-of-type {\n",
       "        vertical-align: middle;\n",
       "    }\n",
       "\n",
       "    .dataframe tbody tr th {\n",
       "        vertical-align: top;\n",
       "    }\n",
       "\n",
       "    .dataframe thead th {\n",
       "        text-align: right;\n",
       "    }\n",
       "</style>\n",
       "<table border=\"1\" class=\"dataframe\">\n",
       "  <thead>\n",
       "    <tr style=\"text-align: right;\">\n",
       "      <th></th>\n",
       "      <th>Amylinomimetics</th>\n",
       "      <th>Biguanides</th>\n",
       "      <th>Hexalen</th>\n",
       "      <th>Acetaminophen</th>\n",
       "      <th>Triazolam</th>\n",
       "      <th>Matulane</th>\n",
       "      <th>Estrostep Fe</th>\n",
       "      <th>Seasonale</th>\n",
       "      <th>Thermazene</th>\n",
       "      <th>Aprotinin</th>\n",
       "      <th>Ramelteon</th>\n",
       "      <th>Malarone</th>\n",
       "      <th>Chlorpheniramine</th>\n",
       "      <th>Motrin IB</th>\n",
       "      <th>Niaspan</th>\n",
       "      <th>Reaction</th>\n",
       "      <th>label</th>\n",
       "    </tr>\n",
       "  </thead>\n",
       "  <tbody>\n",
       "    <tr>\n",
       "      <td>1</td>\n",
       "      <td>3</td>\n",
       "      <td>3</td>\n",
       "      <td>0</td>\n",
       "      <td>0</td>\n",
       "      <td>0</td>\n",
       "      <td>0</td>\n",
       "      <td>0</td>\n",
       "      <td>0</td>\n",
       "      <td>0</td>\n",
       "      <td>0</td>\n",
       "      <td>0</td>\n",
       "      <td>0</td>\n",
       "      <td>0</td>\n",
       "      <td>0</td>\n",
       "      <td>0</td>\n",
       "      <td>low</td>\n",
       "      <td>0</td>\n",
       "    </tr>\n",
       "    <tr>\n",
       "      <td>2</td>\n",
       "      <td>0</td>\n",
       "      <td>0</td>\n",
       "      <td>0</td>\n",
       "      <td>0</td>\n",
       "      <td>0</td>\n",
       "      <td>1</td>\n",
       "      <td>3</td>\n",
       "      <td>0</td>\n",
       "      <td>0</td>\n",
       "      <td>0</td>\n",
       "      <td>0</td>\n",
       "      <td>0</td>\n",
       "      <td>0</td>\n",
       "      <td>0</td>\n",
       "      <td>0</td>\n",
       "      <td>high</td>\n",
       "      <td>2</td>\n",
       "    </tr>\n",
       "    <tr>\n",
       "      <td>3</td>\n",
       "      <td>0</td>\n",
       "      <td>0</td>\n",
       "      <td>0</td>\n",
       "      <td>0</td>\n",
       "      <td>0</td>\n",
       "      <td>0</td>\n",
       "      <td>0</td>\n",
       "      <td>2</td>\n",
       "      <td>0</td>\n",
       "      <td>3</td>\n",
       "      <td>0</td>\n",
       "      <td>0</td>\n",
       "      <td>0</td>\n",
       "      <td>0</td>\n",
       "      <td>0</td>\n",
       "      <td>medium</td>\n",
       "      <td>1</td>\n",
       "    </tr>\n",
       "    <tr>\n",
       "      <td>4</td>\n",
       "      <td>2</td>\n",
       "      <td>0</td>\n",
       "      <td>0</td>\n",
       "      <td>0</td>\n",
       "      <td>0</td>\n",
       "      <td>0</td>\n",
       "      <td>0</td>\n",
       "      <td>0</td>\n",
       "      <td>0</td>\n",
       "      <td>3</td>\n",
       "      <td>0</td>\n",
       "      <td>0</td>\n",
       "      <td>0</td>\n",
       "      <td>0</td>\n",
       "      <td>0</td>\n",
       "      <td>low</td>\n",
       "      <td>0</td>\n",
       "    </tr>\n",
       "    <tr>\n",
       "      <td>5</td>\n",
       "      <td>0</td>\n",
       "      <td>0</td>\n",
       "      <td>0</td>\n",
       "      <td>0</td>\n",
       "      <td>0</td>\n",
       "      <td>0</td>\n",
       "      <td>0</td>\n",
       "      <td>0</td>\n",
       "      <td>3</td>\n",
       "      <td>3</td>\n",
       "      <td>0</td>\n",
       "      <td>0</td>\n",
       "      <td>0</td>\n",
       "      <td>0</td>\n",
       "      <td>0</td>\n",
       "      <td>medium</td>\n",
       "      <td>1</td>\n",
       "    </tr>\n",
       "  </tbody>\n",
       "</table>\n",
       "</div>"
      ],
      "text/plain": [
       "    Amylinomimetics  Biguanides  Hexalen  Acetaminophen  Triazolam  Matulane  \\\n",
       "1                 3           3        0              0          0         0   \n",
       "2                 0           0        0              0          0         1   \n",
       "3                 0           0        0              0          0         0   \n",
       "4                 2           0        0              0          0         0   \n",
       "5                 0           0        0              0          0         0   \n",
       "\n",
       "   Estrostep Fe  Seasonale  Thermazene  Aprotinin  Ramelteon  Malarone  \\\n",
       "1             0          0           0          0          0         0   \n",
       "2             3          0           0          0          0         0   \n",
       "3             0          2           0          3          0         0   \n",
       "4             0          0           0          3          0         0   \n",
       "5             0          0           3          3          0         0   \n",
       "\n",
       "   Chlorpheniramine  Motrin IB  Niaspan Reaction  label  \n",
       "1                 0          0        0      low      0  \n",
       "2                 0          0        0     high      2  \n",
       "3                 0          0        0   medium      1  \n",
       "4                 0          0        0      low      0  \n",
       "5                 0          0        0   medium      1  "
      ]
     },
     "execution_count": 5,
     "metadata": {},
     "output_type": "execute_result"
    }
   ],
   "source": [
    "#Fill empty values by 0\n",
    "name=[' Amylinomimetics','Biguanides','Hexalen','Acetaminophen','Triazolam','Matulane','Estrostep Fe','Seasonale','Thermazene','Aprotinin','Ramelteon','Malarone','Chlorpheniramine','Motrin IB','Niaspan','Reaction']\n",
    "\n",
    "for i in name:\n",
    "    data[i].fillna(0,inplace=True)\n",
    "    \n",
    "data.head()"
   ]
  },
  {
   "cell_type": "code",
   "execution_count": 6,
   "metadata": {},
   "outputs": [
    {
     "data": {
      "text/plain": [
       "1        0\n",
       "2        2\n",
       "3        1\n",
       "4        0\n",
       "5        1\n",
       "        ..\n",
       "29995    1\n",
       "29996    2\n",
       "29997    1\n",
       "29998    0\n",
       "29999    2\n",
       "Name: label, Length: 29999, dtype: int64"
      ]
     },
     "execution_count": 6,
     "metadata": {},
     "output_type": "execute_result"
    }
   ],
   "source": [
    "#Labeling the data\n",
    "data['label']=data.Reaction.map({'low':0,'medium':1,'high':2})\n",
    "data['label']"
   ]
  },
  {
   "cell_type": "code",
   "execution_count": 7,
   "metadata": {},
   "outputs": [],
   "source": [
    "# Consider Input and Output\n",
    "Xtrain=data[[' Amylinomimetics','Biguanides','Hexalen','Acetaminophen','Triazolam','Matulane','Estrostep Fe','Seasonale','Thermazene','Aprotinin','Ramelteon','Malarone','Chlorpheniramine','Motrin IB','Niaspan']]\n",
    "Ytrain=data['label']"
   ]
  },
  {
   "cell_type": "code",
   "execution_count": 8,
   "metadata": {},
   "outputs": [
    {
     "name": "stdout",
     "output_type": "stream",
     "text": [
      "Number of Training samples : 26999\n",
      "Number of Test samples : 3000\n"
     ]
    }
   ],
   "source": [
    "#Train test split\n",
    "from sklearn.model_selection import train_test_split\n",
    "\n",
    "xtrain,xtest,ytrain,ytest=train_test_split(Xtrain,Ytrain,test_size=0.1,random_state=20)\n",
    "print('Number of Training samples :',len(xtrain))\n",
    "print('Number of Test samples :',len(xtest))"
   ]
  },
  {
   "cell_type": "markdown",
   "metadata": {},
   "source": [
    "# Decision Tree Algorithm"
   ]
  },
  {
   "cell_type": "code",
   "execution_count": 9,
   "metadata": {},
   "outputs": [],
   "source": [
    "from sklearn import tree\n",
    "from sklearn.metrics import accuracy_score"
   ]
  },
  {
   "cell_type": "code",
   "execution_count": 10,
   "metadata": {},
   "outputs": [
    {
     "data": {
      "text/plain": [
       "DecisionTreeClassifier(class_weight=None, criterion='gini', max_depth=None,\n",
       "                       max_features=None, max_leaf_nodes=None,\n",
       "                       min_impurity_decrease=0.0, min_impurity_split=None,\n",
       "                       min_samples_leaf=1, min_samples_split=2,\n",
       "                       min_weight_fraction_leaf=0.0, presort=False,\n",
       "                       random_state=None, splitter='best')"
      ]
     },
     "execution_count": 10,
     "metadata": {},
     "output_type": "execute_result"
    }
   ],
   "source": [
    "clf=tree.DecisionTreeClassifier()\n",
    "clf.fit(Xtrain,Ytrain)"
   ]
  },
  {
   "cell_type": "code",
   "execution_count": 11,
   "metadata": {},
   "outputs": [
    {
     "name": "stdout",
     "output_type": "stream",
     "text": [
      "[1 0 2 2 0]\n"
     ]
    }
   ],
   "source": [
    "pred=clf.predict(xtest)\n",
    "print(pred[:5])"
   ]
  },
  {
   "cell_type": "code",
   "execution_count": 12,
   "metadata": {},
   "outputs": [
    {
     "name": "stdout",
     "output_type": "stream",
     "text": [
      "Accuracy of decision tree algorithm is : 75.43333333333334 %\n"
     ]
    }
   ],
   "source": [
    "print('Accuracy of decision tree algorithm is :',accuracy_score(ytest,pred)*100,'%')"
   ]
  },
  {
   "cell_type": "code",
   "execution_count": 13,
   "metadata": {},
   "outputs": [],
   "source": [
    "import pickle\n",
    "filename = 'decision_tree_model.sav'\n",
    "#pickle.dump(clf, open(filename, 'wb'))"
   ]
  },
  {
   "cell_type": "code",
   "execution_count": 14,
   "metadata": {},
   "outputs": [
    {
     "name": "stdout",
     "output_type": "stream",
     "text": [
      "75.43333333333334 %\n"
     ]
    }
   ],
   "source": [
    "filename = 'decision_tree_model.sav'\n",
    "loaded_model = pickle.load(open(filename, 'rb'))\n",
    "result = loaded_model.score(xtest, ytest)\n",
    "print(result*100,'%')"
   ]
  },
  {
   "cell_type": "markdown",
   "metadata": {},
   "source": [
    "# Random Forest"
   ]
  },
  {
   "cell_type": "code",
   "execution_count": 13,
   "metadata": {},
   "outputs": [],
   "source": [
    "from sklearn.ensemble import RandomForestClassifier\n",
    "from sklearn.metrics import accuracy_score"
   ]
  },
  {
   "cell_type": "code",
   "execution_count": 14,
   "metadata": {},
   "outputs": [
    {
     "data": {
      "text/plain": [
       "RandomForestClassifier(bootstrap=True, class_weight=None, criterion='gini',\n",
       "                       max_depth=25, max_features='auto', max_leaf_nodes=None,\n",
       "                       min_impurity_decrease=0.0, min_impurity_split=None,\n",
       "                       min_samples_leaf=1, min_samples_split=2,\n",
       "                       min_weight_fraction_leaf=0.0, n_estimators=50,\n",
       "                       n_jobs=None, oob_score=False, random_state=0, verbose=0,\n",
       "                       warm_start=False)"
      ]
     },
     "execution_count": 14,
     "metadata": {},
     "output_type": "execute_result"
    }
   ],
   "source": [
    "clf=RandomForestClassifier(n_estimators=50, max_depth=25,random_state=0)\n",
    "clf.fit(Xtrain,Ytrain)"
   ]
  },
  {
   "cell_type": "code",
   "execution_count": 15,
   "metadata": {},
   "outputs": [],
   "source": [
    "pred=clf.predict(xtest)"
   ]
  },
  {
   "cell_type": "code",
   "execution_count": 16,
   "metadata": {},
   "outputs": [
    {
     "name": "stdout",
     "output_type": "stream",
     "text": [
      "Accuracy of Random Forest algorithm is : 75.6 %\n"
     ]
    }
   ],
   "source": [
    "print('Accuracy of Random Forest algorithm is :',accuracy_score(ytest,pred)*100,'%')"
   ]
  },
  {
   "cell_type": "code",
   "execution_count": 17,
   "metadata": {},
   "outputs": [],
   "source": [
    "filename='random_forest_model.sav'\n",
    "#pickle.dump(clf, open(filename, 'wb'))"
   ]
  },
  {
   "cell_type": "code",
   "execution_count": 18,
   "metadata": {},
   "outputs": [
    {
     "name": "stdout",
     "output_type": "stream",
     "text": [
      "75.6 %\n"
     ]
    }
   ],
   "source": [
    "loaded_model = pickle.load(open(filename, 'rb'))\n",
    "result = loaded_model.score(xtest, ytest)\n",
    "print(result*100,'%')"
   ]
  },
  {
   "cell_type": "code",
   "execution_count": null,
   "metadata": {},
   "outputs": [],
   "source": []
  },
  {
   "cell_type": "markdown",
   "metadata": {},
   "source": [
    "# Naive bayes"
   ]
  },
  {
   "cell_type": "code",
   "execution_count": 15,
   "metadata": {},
   "outputs": [],
   "source": [
    "from sklearn.naive_bayes import GaussianNB"
   ]
  },
  {
   "cell_type": "code",
   "execution_count": 18,
   "metadata": {},
   "outputs": [],
   "source": [
    "gnb = GaussianNB()\n",
    "gnb = gnb.fit(Xtrain, Ytrain)"
   ]
  },
  {
   "cell_type": "code",
   "execution_count": 20,
   "metadata": {},
   "outputs": [],
   "source": [
    "pred=gnb.predict(xtest)"
   ]
  },
  {
   "cell_type": "code",
   "execution_count": 21,
   "metadata": {},
   "outputs": [
    {
     "name": "stdout",
     "output_type": "stream",
     "text": [
      "Accuracy of Naive Bayes algorithm is : 32.800000000000004 %\n"
     ]
    }
   ],
   "source": [
    "print('Accuracy of Naive Bayes algorithm is :',accuracy_score(ytest,pred)*100,'%')"
   ]
  },
  {
   "cell_type": "code",
   "execution_count": null,
   "metadata": {},
   "outputs": [],
   "source": []
  }
 ],
 "metadata": {
  "kernelspec": {
   "display_name": "Python 3",
   "language": "python",
   "name": "python3"
  },
  "language_info": {
   "codemirror_mode": {
    "name": "ipython",
    "version": 3
   },
   "file_extension": ".py",
   "mimetype": "text/x-python",
   "name": "python",
   "nbconvert_exporter": "python",
   "pygments_lexer": "ipython3",
   "version": "3.7.4"
  }
 },
 "nbformat": 4,
 "nbformat_minor": 2
}
