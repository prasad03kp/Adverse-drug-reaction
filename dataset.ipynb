{
 "cells": [
  {
   "cell_type": "code",
   "execution_count": 1,
   "metadata": {},
   "outputs": [],
   "source": [
    "import numpy as np\n",
    "import pandas as pd\n",
    "import math\n",
    "import random"
   ]
  },
  {
   "cell_type": "code",
   "execution_count": 2,
   "metadata": {},
   "outputs": [],
   "source": [
    "def fill_list(index,count):\n",
    "    l=[0 for i in range(15)]\n",
    "    for i,j in zip(index,count):\n",
    "        l[i]=j\n",
    "    reaction=['low','medium','high']\n",
    "    r_n=random.randint(0,2)\n",
    "    l.append(reaction[r_n])\n",
    "    return l"
   ]
  },
  {
   "cell_type": "code",
   "execution_count": 3,
   "metadata": {},
   "outputs": [],
   "source": [
    "def generateRand_for_index(s,e,c):\n",
    "    nums=[]\n",
    "    while(len(nums)<c):\n",
    "        i=random.randint(s,e)\n",
    "        if i not in nums:\n",
    "            nums.append(i)\n",
    "    return nums"
   ]
  },
  {
   "cell_type": "code",
   "execution_count": 4,
   "metadata": {},
   "outputs": [],
   "source": [
    "def generateRand_for_cnt(s,e,c):\n",
    "    nums=[]\n",
    "    while(len(nums)<c):\n",
    "        i=random.randint(s,e)\n",
    "        nums.append(i)\n",
    "    return nums\n",
    "\n",
    "res_list=[]"
   ]
  },
  {
   "cell_type": "code",
   "execution_count": 7,
   "metadata": {},
   "outputs": [],
   "source": [
    "for i in range(10000):\n",
    "    ind=generateRand_for_index(0,14,4)\n",
    "    cnt=generateRand_for_cnt(1,3,4)\n",
    "    res=fill_list(ind,cnt)\n",
    "    res_list.append(res)"
   ]
  },
  {
   "cell_type": "code",
   "execution_count": 8,
   "metadata": {},
   "outputs": [],
   "source": [
    "soln=pd.DataFrame(res_list)"
   ]
  },
  {
   "cell_type": "code",
   "execution_count": 9,
   "metadata": {},
   "outputs": [
    {
     "name": "stdout",
     "output_type": "stream",
     "text": [
      "       0  1  2  3  4  5  6  7  8  9  10  11  12  13  14      15\n",
      "0      0  0  3  0  0  0  1  0  0  0   0   0   0   0   0     low\n",
      "1      3  3  0  0  0  0  0  0  0  0   0   0   0   0   0     low\n",
      "2      0  0  0  0  0  1  3  0  0  0   0   0   0   0   0    high\n",
      "3      0  0  0  0  0  0  0  2  0  3   0   0   0   0   0  medium\n",
      "4      2  0  0  0  0  0  0  0  0  3   0   0   0   0   0     low\n",
      "...   .. .. .. .. .. .. .. .. .. ..  ..  ..  ..  ..  ..     ...\n",
      "29995  0  3  0  0  0  0  0  1  0  0   0   3   0   2   0  medium\n",
      "29996  0  0  3  0  0  3  0  0  0  0   0   0   2   0   1    high\n",
      "29997  0  0  3  0  0  2  0  0  0  0   2   3   0   0   0  medium\n",
      "29998  0  0  1  0  0  0  2  0  0  0   0   0   0   1   3     low\n",
      "29999  0  1  1  0  0  0  3  0  1  0   0   0   0   0   0    high\n",
      "\n",
      "[30000 rows x 16 columns]\n"
     ]
    }
   ],
   "source": [
    "print(soln)"
   ]
  },
  {
   "cell_type": "code",
   "execution_count": 10,
   "metadata": {},
   "outputs": [],
   "source": [
    "soln.to_csv('dataset3.csv',header=[' Amylinomimetics','Biguanides','Hexalen','Acetaminophen','Triazolam','Matulane','Estrostep Fe','Seasonale','Thermazene','Aprotinin','Ramelteon','Malarone','Chlorpheniramine','Motrin IB','Niaspan','Reaction'])"
   ]
  },
  {
   "cell_type": "code",
   "execution_count": null,
   "metadata": {},
   "outputs": [],
   "source": []
  },
  {
   "cell_type": "code",
   "execution_count": null,
   "metadata": {},
   "outputs": [],
   "source": []
  },
  {
   "cell_type": "code",
   "execution_count": null,
   "metadata": {},
   "outputs": [],
   "source": []
  }
 ],
 "metadata": {
  "kernelspec": {
   "display_name": "Python 3",
   "language": "python",
   "name": "python3"
  },
  "language_info": {
   "codemirror_mode": {
    "name": "ipython",
    "version": 3
   },
   "file_extension": ".py",
   "mimetype": "text/x-python",
   "name": "python",
   "nbconvert_exporter": "python",
   "pygments_lexer": "ipython3",
   "version": "3.7.4"
  }
 },
 "nbformat": 4,
 "nbformat_minor": 2
}
